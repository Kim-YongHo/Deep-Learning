{
 "cells": [
  {
   "cell_type": "markdown",
   "id": "3bc965c8",
   "metadata": {},
   "source": [
    "## 딥러닝 자영어 처리\n",
    "### 잔연어 처리 (NLP : Natural Language Processing)\n",
    "\n",
    "- 음성이나 텍스트를 컴퓨터가 인식하고 처리하는 것\n",
    "    - 컴퓨터를 이용해서 인간의 언어를 알아 듣는 연구는 딥러닝 이전부터 지속\n",
    "    - 딥러닝이 등장하면서 처리 연구가 활발해짐\n",
    "    - 대용량 데이터를 이용해 자연어 데이터를 지속적인 입력으로 끊임없이 학습이 가능해짐"
   ]
  },
  {
   "cell_type": "markdown",
   "id": "58aa0925",
   "metadata": {},
   "source": [
    "### NLP의 전처리\n",
    "- 텍스트 자료를 딥러닝에 그대로 입력할 수 없음\n",
    "- 컴퓨터 알고리즘은 수치로 된 데이터만 이해할 뿐 텍스트를 이해할 수 없기 때문\n",
    "- 의미있는 단어 자체를 수치화시키고 정제하는 전처리 과정 필요"
   ]
  },
  {
   "cell_type": "markdown",
   "id": "ec8cd9bb",
   "metadata": {},
   "source": [
    "### 텍스트 전처리 작업\n",
    "1. 토큰화\n",
    "2. 정제\n",
    "3. 정규화\n",
    "4. 어간 추출과 표제어 추출\n",
    "5. 불용어 제거\n",
    "6. 정수 인코딩\n",
    "7. 패딩\n",
    "8. 원-핫 인코딩"
   ]
  },
  {
   "cell_type": "markdown",
   "id": "c865e319",
   "metadata": {},
   "source": [
    "#### 텍스트 토큰화\n",
    "- 토큰화 : 입력된 텍스트를 잘게 나누는 과정\n",
    "- 토큰\n",
    "    - 작게 나누어진 하나의 단위\n",
    "    - 단어, 문장, 형태소 등"
   ]
  },
  {
   "cell_type": "markdown",
   "id": "48cfee8e",
   "metadata": {},
   "source": [
    "#### 토큰함수\n",
    "- 케라스의 text_to_word_sequence() 함수\n",
    "- tensorflow.keras.preprocessing.text"
   ]
  },
  {
   "cell_type": "code",
   "execution_count": 1,
   "id": "486637ed",
   "metadata": {},
   "outputs": [],
   "source": [
    "from tensorflow.keras.preprocessing.text import text_to_word_sequence"
   ]
  },
  {
   "cell_type": "code",
   "execution_count": 4,
   "id": "7ad0d024",
   "metadata": {},
   "outputs": [
    {
     "name": "stdout",
     "output_type": "stream",
     "text": [
      "['해보지', '않으면', '해낼', '수', '없다']\n"
     ]
    }
   ],
   "source": [
    "text = '해보지 않으면 해낼 수 없다'\n",
    "result = text_to_word_sequence(text)\n",
    "print(result)"
   ]
  },
  {
   "cell_type": "markdown",
   "id": "d5797357",
   "metadata": {},
   "source": [
    "#### 단어의 빈도수나 포함 내용 등을 확인 : Tokenizer() 클래스 사용\n",
    "\n",
    "- 단어의 빈도수\n",
    "    - 각  단어가 몇 번이나 중복해서 쓰였는지 확인\n",
    "    - 단어의 빈도수를 알면 텍스트에서 중요한 역할을 하는 단어를 파악할 수 있음"
   ]
  },
  {
   "cell_type": "code",
   "execution_count": 5,
   "id": "c95e6e03",
   "metadata": {},
   "outputs": [],
   "source": [
    "from tensorflow.keras.preprocessing.text import Tokenizer"
   ]
  },
  {
   "cell_type": "code",
   "execution_count": 6,
   "id": "05ff3690",
   "metadata": {},
   "outputs": [],
   "source": [
    "docs = ['먼저 텍스트의 각 단어를 나누어 토큰화 합니다.',\n",
    "       '텍스트의 단어로 토큰화 해야 딥러닝에서 인식됩니다.',\n",
    "       '토큰화 한 결과는 딥러닝에서 사용 할 수 있습니다.',\n",
    "       ]"
   ]
  },
  {
   "cell_type": "code",
   "execution_count": 7,
   "id": "6ca772f0",
   "metadata": {},
   "outputs": [],
   "source": [
    "token = Tokenizer() #토큰화 객체 생성\n",
    "token.fit_on_texts(docs) #문장적용"
   ]
  },
  {
   "cell_type": "code",
   "execution_count": 8,
   "id": "905c64a1",
   "metadata": {},
   "outputs": [
    {
     "data": {
      "text/plain": [
       "OrderedDict([('먼저', 1),\n",
       "             ('텍스트의', 2),\n",
       "             ('각', 1),\n",
       "             ('단어를', 1),\n",
       "             ('나누어', 1),\n",
       "             ('토큰화', 3),\n",
       "             ('합니다', 1),\n",
       "             ('단어로', 1),\n",
       "             ('해야', 1),\n",
       "             ('딥러닝에서', 2),\n",
       "             ('인식됩니다', 1),\n",
       "             ('한', 1),\n",
       "             ('결과는', 1),\n",
       "             ('사용', 1),\n",
       "             ('할', 1),\n",
       "             ('수', 1),\n",
       "             ('있습니다', 1)])"
      ]
     },
     "execution_count": 8,
     "metadata": {},
     "output_type": "execute_result"
    }
   ],
   "source": [
    "# 단어의 빈도수 확인 - token.word_counts 속성\n",
    "token.word_counts\n",
    "# 각 단어와 빈도수가 튜플로 이루어진 리스트로 반환"
   ]
  },
  {
   "cell_type": "code",
   "execution_count": 9,
   "id": "df64d7db",
   "metadata": {},
   "outputs": [
    {
     "data": {
      "text/plain": [
       "3"
      ]
     },
     "execution_count": 9,
     "metadata": {},
     "output_type": "execute_result"
    }
   ],
   "source": [
    "# 입력받은 데이터의 총 문장 수 : token.document_count\n",
    "token.document_count"
   ]
  },
  {
   "cell_type": "code",
   "execution_count": 10,
   "id": "170a601d",
   "metadata": {},
   "outputs": [
    {
     "data": {
      "text/plain": [
       "defaultdict(int,\n",
       "            {'텍스트의': 2,\n",
       "             '나누어': 1,\n",
       "             '단어를': 1,\n",
       "             '토큰화': 3,\n",
       "             '먼저': 1,\n",
       "             '각': 1,\n",
       "             '합니다': 1,\n",
       "             '단어로': 1,\n",
       "             '딥러닝에서': 2,\n",
       "             '해야': 1,\n",
       "             '인식됩니다': 1,\n",
       "             '수': 1,\n",
       "             '결과는': 1,\n",
       "             '사용': 1,\n",
       "             '한': 1,\n",
       "             '할': 1,\n",
       "             '있습니다': 1})"
      ]
     },
     "execution_count": 10,
     "metadata": {},
     "output_type": "execute_result"
    }
   ],
   "source": [
    "# 단어(토큰) 몇개의 문장(document)에 포함되어 있는지 -  토큰이 소속된 문장 수\n",
    "# token.word_docs\n",
    "token.word_docs"
   ]
  },
  {
   "cell_type": "markdown",
   "id": "5ddc2159",
   "metadata": {},
   "source": [
    "#### word_counts와 word_docs\n",
    "- word_counts : 단어의 빈도수\n",
    "- word_docs : 몇개의 문장에 나오는가"
   ]
  },
  {
   "cell_type": "code",
   "execution_count": 54,
   "id": "1a943557",
   "metadata": {},
   "outputs": [],
   "source": [
    "## 내용 수정 (단어를 추가) 기능 구별을 위해\n",
    "docs = ['먼저 텍스트의 각 단어를 나누어 단어를 토큰화 합니다.',\n",
    "       '텍스트의 단어로 토큰화 해야 딥러닝에서 인식됩니다.',\n",
    "       '토큰화 한 결과는 딥러닝에서 사용 할 수 있습니다.',\n",
    "       ]"
   ]
  },
  {
   "cell_type": "code",
   "execution_count": 55,
   "id": "d652b843",
   "metadata": {},
   "outputs": [],
   "source": [
    "token = Tokenizer() # 토큰화 객체 생성\n",
    "token.fit_on_texts(docs) # 문장적용"
   ]
  },
  {
   "cell_type": "code",
   "execution_count": 56,
   "id": "615cbb60",
   "metadata": {},
   "outputs": [
    {
     "name": "stdout",
     "output_type": "stream",
     "text": [
      "OrderedDict([('먼저', 1), ('텍스트의', 2), ('각', 1), ('단어를', 2), ('나누어', 1), ('토큰화', 3), ('합니다', 1), ('단어로', 1), ('해야', 1), ('딥러닝에서', 2), ('인식됩니다', 1), ('한', 1), ('결과는', 1), ('사용', 1), ('할', 1), ('수', 1), ('있습니다', 1)])\n",
      "\n",
      " defaultdict(<class 'int'>, {'텍스트의': 2, '나누어': 1, '단어를': 1, '토큰화': 3, '먼저': 1, '각': 1, '합니다': 1, '단어로': 1, '딥러닝에서': 2, '해야': 1, '인식됩니다': 1, '수': 1, '결과는': 1, '사용': 1, '한': 1, '할': 1, '있습니다': 1})\n"
     ]
    }
   ],
   "source": [
    "print(token.word_counts)\n",
    "print('\\n',token.word_docs)\n",
    "# 현재는 word_counts와 word_docs 결과 동일\n",
    "# 빈도수 : ('단어를', 1)\n",
    "# 소속 문장 수 : '단어를': 1"
   ]
  },
  {
   "cell_type": "code",
   "execution_count": null,
   "id": "c0663b9f",
   "metadata": {},
   "outputs": [],
   "source": []
  },
  {
   "cell_type": "code",
   "execution_count": 57,
   "id": "a99c9c61",
   "metadata": {},
   "outputs": [
    {
     "name": "stdout",
     "output_type": "stream",
     "text": [
      "OrderedDict([('먼저', 1), ('텍스트의', 2), ('각', 1), ('단어를', 1), ('나누어', 1), ('토큰화', 3), ('합니다', 1), ('단어로', 1), ('해야', 1), ('딥러닝에서', 2), ('인식됩니다', 1), ('한', 1), ('결과는', 1), ('사용', 1), ('할', 1), ('수', 1), ('있습니다', 1)])\n",
      "\n",
      " defaultdict(<class 'int'>, {'텍스트의': 2, '나누어': 1, '단어를': 1, '토큰화': 3, '먼저': 1, '각': 1, '합니다': 1, '단어로': 1, '딥러닝에서': 2, '해야': 1, '인식됩니다': 1, '수': 1, '결과는': 1, '사용': 1, '한': 1, '할': 1, '있습니다': 1})\n"
     ]
    }
   ],
   "source": [
    "## 위에 내용 그대로 가져오기\n",
    "docs = ['먼저 텍스트의 각 단어를 나누어 토큰화 합니다.',\n",
    "       '텍스트의 단어로 토큰화 해야 딥러닝에서 인식됩니다.',\n",
    "       '토큰화 한 결과는 딥러닝에서 사용 할 수 있습니다.',\n",
    "       ]\n",
    "\n",
    "token = Tokenizer()            # 토큰화 객체 생성\n",
    "token.fit_on_texts(docs)       # 문장 적용\n",
    "print(token.word_counts)\n",
    "print('\\n',token.word_docs)\n"
   ]
  },
  {
   "cell_type": "markdown",
   "id": "5676994a",
   "metadata": {},
   "source": [
    "#### 각 단어에 매겨진 인덱스 값 확인\n",
    "- token.word_index"
   ]
  },
  {
   "cell_type": "code",
   "execution_count": 58,
   "id": "3fed3d17",
   "metadata": {},
   "outputs": [
    {
     "data": {
      "text/plain": [
       "{'토큰화': 1,\n",
       " '텍스트의': 2,\n",
       " '딥러닝에서': 3,\n",
       " '먼저': 4,\n",
       " '각': 5,\n",
       " '단어를': 6,\n",
       " '나누어': 7,\n",
       " '합니다': 8,\n",
       " '단어로': 9,\n",
       " '해야': 10,\n",
       " '인식됩니다': 11,\n",
       " '한': 12,\n",
       " '결과는': 13,\n",
       " '사용': 14,\n",
       " '할': 15,\n",
       " '수': 16,\n",
       " '있습니다': 17}"
      ]
     },
     "execution_count": 58,
     "metadata": {},
     "output_type": "execute_result"
    }
   ],
   "source": [
    "token.word_index\n",
    "# 각 토큰의 인덱스가 dict 형태로 반환"
   ]
  },
  {
   "cell_type": "markdown",
   "id": "c63eb142",
   "metadata": {},
   "source": [
    "#### 단어의 원-핫 인코딩\n",
    "- 먼저 벡터 공간을 0으로 채우고\n",
    "- index에 해당되는 값만 1로 변경\n",
    "\n",
    "**원-핫 인코딩 전에 각 단어에 index 부여 수행**\n"
   ]
  },
  {
   "cell_type": "code",
   "execution_count": 59,
   "id": "62cef62b",
   "metadata": {},
   "outputs": [
    {
     "data": {
      "text/plain": [
       "{'오랫동안': 1, '꿈꾸는': 2, '이는': 3, '그': 4, '꿈을': 5, '닮아간다': 6}"
      ]
     },
     "execution_count": 59,
     "metadata": {},
     "output_type": "execute_result"
    }
   ],
   "source": [
    "from tensorflow.keras.preprocessing.text import Tokenizer\n",
    "\n",
    "text = '오랫동안 꿈꾸는 이는 그 꿈을 닮아간다'\n",
    "\n",
    "token = Tokenizer()            # 토큰화 객체 생성\n",
    "token.fit_on_texts([text])  \n",
    "token.word_index  # 각 단어와 인덱스 확인\n"
   ]
  },
  {
   "cell_type": "code",
   "execution_count": 60,
   "id": "31e4a995",
   "metadata": {},
   "outputs": [
    {
     "data": {
      "text/plain": [
       "[[1, 2, 3, 4, 5, 6]]"
      ]
     },
     "execution_count": 60,
     "metadata": {},
     "output_type": "execute_result"
    }
   ],
   "source": [
    "# 각 단어의 index로만 이루어진 리스트 생성\n",
    "x = token.texts_to_sequences([text])\n",
    "x"
   ]
  },
  {
   "cell_type": "markdown",
   "id": "df8b04bb",
   "metadata": {},
   "source": [
    "* texts_to_sequences 함수를 이용해 원래 text의 토큰화된 단어들을 배열의 인덱스로 바꿔줄 때\n",
    "\n",
    "- 예를 들어 위 코드의 경우 text의 단어가6개이니 [1, 2, 3, 4, 5, 6]로 나온다.\n",
    "\n",
    "- 이 때 0부터 시작하지 않느 이유 :\n",
    "    - **배열의 맨앞에 인덱스 0이 생략되서 출력** 되는 것임\n",
    "    - 뒤에 embedding 층을 생성할 때 전체 단어수에 +1을 해야하는 이유\n"
   ]
  },
  {
   "cell_type": "code",
   "execution_count": 61,
   "id": "83137bab",
   "metadata": {},
   "outputs": [
    {
     "data": {
      "text/plain": [
       "array([[[0., 1., 0., 0., 0., 0., 0.],\n",
       "        [0., 0., 1., 0., 0., 0., 0.],\n",
       "        [0., 0., 0., 1., 0., 0., 0.],\n",
       "        [0., 0., 0., 0., 1., 0., 0.],\n",
       "        [0., 0., 0., 0., 0., 1., 0.],\n",
       "        [0., 0., 0., 0., 0., 0., 1.]]], dtype=float32)"
      ]
     },
     "execution_count": 61,
     "metadata": {},
     "output_type": "execute_result"
    }
   ],
   "source": [
    "#원-핫 인코딩\n",
    "#to_categorical() 함수 사용\n",
    "\n",
    "from tensorflow.keras.utils import to_categorical\n",
    "word_size = len(token.word_index) + 1\n",
    "x = to_categorical(x, num_classes=word_size)\n",
    "x"
   ]
  },
  {
   "cell_type": "markdown",
   "id": "cd496291",
   "metadata": {},
   "source": [
    "### 원-핫 인코딩의 문제\n",
    "- 원-핫 인코딩을 그대로 사용하면 벡터의 길이가 너무 길어진다는 단점\n",
    "- 1만개의 단어 토큰으로 이루어진 말뭉치를 다룬다고 할 때\n",
    "- 원-핫 인코딩을 적용해서 벡터화할 경우\n",
    "    - 9999개의 0과 하나의 1로 이루어진 벡터를 1만개를 만들어야함 : 공간적 낭비\n",
    "    - 단어의 의미가 고려되지 않음"
   ]
  },
  {
   "cell_type": "markdown",
   "id": "babbe58e",
   "metadata": {},
   "source": [
    "#### 원-핫 인코딩의 대안\n",
    "- 말뭉치(Corpus)\n",
    "    - 자연어 연구를 위해 특정 목적을 가지고 언어의 표본을 추출한 집합\n",
    "- 밀집표현\n",
    "    - 사용자가 설정한 값으로 모든 단어의 벡터 표현의 차원을 맞춤\n",
    "    - 이 과정에서 더 이상 0과 1만 가진 값이 아니라 실수값을 가지게 됨  \n",
    "    - 예:   \n",
    "        강아지 = [0 0 0 1 ......0] # 10,000 차원  \n",
    "        밀집 표현으로 변경  \n",
    "        강아지 = [0.2 1.8 1.1 .... ] # 128차원  \n",
    "        벡터의 차원이 조밀해졌다고 해서 밀집 벡터(dense bector)라고 함\n"
   ]
  },
  {
   "cell_type": "markdown",
   "id": "da223f1b",
   "metadata": {},
   "source": [
    "- 단어 임베딩 (word embedding)\n",
    "    - 공간적 낭비를 해결하기 위한 방법으로\n",
    "    - 단어의 의미를 고려하고 밀집 벡터(dense vector)의 형태로 표현 - 유사도계산\n",
    "    - 의미가 비슷한 단어는 비슷한 방향에 위치\n",
    "    - 단어의 의미를 효과적으로 표현하기 때문에 \n",
    "    - 원-핫 인코딩보다 학습 성능을 높일 수 있음\n",
    "    - 주어진 배열을 정해진 길이로 압축\n"
   ]
  },
  {
   "cell_type": "markdown",
   "id": "21b252b2",
   "metadata": {},
   "source": [
    "예 : 단어 happy느 bad 보다 good에 더 가깝고\n",
    "    cat은 good 보다는 dog에 가깝다는 것을 고려하여\n",
    "    배열을 새로운 수치로 변경"
   ]
  },
  {
   "attachments": {
    "image.png": {
     "image/png": "[encoded data removed]"
    }
   },
   "cell_type": "markdown",
   "id": "c4ecf3f4",
   "metadata": {},
   "source": [
    "![image.png](attachment:image.png)"
   ]
  },
  {
   "cell_type": "markdown",
   "id": "c98b2aa9",
   "metadata": {},
   "source": [
    "#### 단어 임베딩을 만드는 두가지 방법  \n",
    "\n",
    "1. (문서 분류나 감성 예측과 같은) 관심 대상인 문제와 함께 단어 임베딩을 학습\n",
    "    * 이런 경우에는 랜덤한 단어 벡터로 시작해서 신경망의 가중치를 학습하는 것과 같은 방식으로 단어 벡터를 학습함\n",
    "2. 풀려는 문제가 아니고 다른 머신 러닝 작업에서 미리 계산된 단어 임베딩을 로드. 이를 사전 훈련된 단어 임베딩이라고 함\n"
   ]
  },
  {
   "cell_type": "markdown",
   "id": "e4b536d0",
   "metadata": {},
   "source": [
    "#### 케라스의 Embedding 클래스 사용\n",
    "- Embedding(총 단어수(단어 집합의 크기),임베딩 후 출력되는 벡터 크기,iput_length(각 입력 시퀀스 길이))  \n",
    "- Embedding(16, 4, input_length=2)  \n",
    "- **입력될 총 단어수는 16, 임베딩 후 출력되는 벡터크기는 4, 한번에 입력되는 단어는 2개씩만 입력**"
   ]
  },
  {
   "cell_type": "markdown",
   "id": "774b4e4d",
   "metadata": {},
   "source": [
    "#### 임베딩층  \n",
    "- model = Sequential()  \n",
    "- model.add(Embedding(word_size, 8, input_length=4))  \n",
    "\n",
    "#### 단어 → 단어에 부여된 고유한 정수값 → 임베딩 층 통과 → 밀집 벡터  \n",
    "\n",
    "- 임베딩 층\n",
    "    - 입력 정수에 대해 밀집 벡터(dense vector)로 맵핑하고 \n",
    "    - 밀집 벡터는 인공 신경망의 학습 과정에서 가중치가 학습되는 것과 같은 방식으로 훈련\n",
    "    - 훈련 과정에서 단어는 모델이 풀고자하는 작업에 맞는 값으로 업데이트 됨\n",
    "    - 그리고 이 밀집 벡터를 임베딩 벡터라고 함"
   ]
  },
  {
   "cell_type": "markdown",
   "id": "160361bc",
   "metadata": {},
   "source": [
    "* Embedding 층의 출력 크기  \n",
    "\n",
    "    - Embedding(16, 4, input_length=2)의 경우  \n",
    "    - 출력 크기 : (16, 2, 4) : 3D 실수형 텐서를 반환\n",
    "\n",
    "**Embedding 층의 출력에 대해 Flatten 층 추가**"
   ]
  },
  {
   "cell_type": "markdown",
   "id": "eb6258b1",
   "metadata": {},
   "source": [
    "### 패딩(Padding)\n",
    "- 문장의 길이를 나타내는 배열의 크기를 동일하게 맞추는 작업\n",
    "- 길이가 전부 동일한 문서들에 대하여 하나의 행렬로 인식하고\n",
    "- 한꺼번에 묶어서 처리\n",
    "- 각 문장(문서)의 길이가 서로 다른 경우 \n",
    "- 동일한 길이로 맞추로 빈 부분은 0으로 채움\n"
   ]
  },
  {
   "cell_type": "code",
   "execution_count": 62,
   "id": "b2d5f7b8",
   "metadata": {},
   "outputs": [
    {
     "name": "stdout",
     "output_type": "stream",
     "text": [
      "{'지금은': 1, '딥러닝을': 2, '공부하고': 3, '있어요': 4, '어렵지': 5, '않고': 6, '쉬워요': 7, '참': 8, '재미있어요': 9}\n"
     ]
    }
   ],
   "source": [
    "from tensorflow.keras.preprocessing.text import Tokenizer\n",
    "\n",
    "sentences = [\"지금은 딥러닝을 공부하고 있어요\", \"어렵지 않고 쉬워요\", \"참 재미있어요\"]\n",
    "token = Tokenizer()\n",
    "token.fit_on_texts(sentences)\n",
    "print(token.word_index) # 단어의 인덱스 출력\n"
   ]
  },
  {
   "cell_type": "code",
   "execution_count": 63,
   "id": "619c86db",
   "metadata": {},
   "outputs": [
    {
     "data": {
      "text/plain": [
       "[[1, 2, 3, 4], [5, 6, 7], [8, 9]]"
      ]
     },
     "execution_count": 63,
     "metadata": {},
     "output_type": "execute_result"
    }
   ],
   "source": [
    "# 각 문장에 해당되는 인덱스를 배열로 출력\n",
    "result = token.texts_to_sequences(sentences)\n",
    "result\n",
    "# 배열의 길이가 다름\n"
   ]
  },
  {
   "cell_type": "code",
   "execution_count": 66,
   "id": "24ff4aab",
   "metadata": {},
   "outputs": [
    {
     "data": {
      "text/plain": [
       "array([[1, 2, 3, 4],\n",
       "       [0, 5, 6, 7],\n",
       "       [0, 0, 8, 9]])"
      ]
     },
     "execution_count": 66,
     "metadata": {},
     "output_type": "execute_result"
    }
   ],
   "source": [
    "from tensorflow.keras.preprocessing.sequence import pad_sequences\n",
    "# 패딩 : 배열의 길이이를 동일하게 맞추는 작업\n",
    "# 길이를 지정하지 않으면 제일 크기가 큰 배열의 크기에 맞춤\n",
    "padded = pad_sequences(result)\n",
    "padded"
   ]
  },
  {
   "cell_type": "code",
   "execution_count": 70,
   "id": "676b035d",
   "metadata": {},
   "outputs": [
    {
     "data": {
      "text/plain": [
       "array([[0, 0, 1, 2, 3, 4],\n",
       "       [0, 0, 0, 5, 6, 7],\n",
       "       [0, 0, 0, 0, 8, 9]])"
      ]
     },
     "execution_count": 70,
     "metadata": {},
     "output_type": "execute_result"
    }
   ],
   "source": [
    "# 길이를 6으로 지정\n",
    "padded = pad_sequences(result,6)\n",
    "padded\n",
    "# padding 파라미터 : 앞부분을 확장할지 뒷부분을 확장할지를 결정\n",
    "# 기본값 : padding='pre' (앞부분을 0으로 채움)"
   ]
  },
  {
   "cell_type": "code",
   "execution_count": 69,
   "id": "665c53f5",
   "metadata": {},
   "outputs": [
    {
     "data": {
      "text/plain": [
       "array([[1, 2, 3, 4, 0, 0],\n",
       "       [5, 6, 7, 0, 0, 0],\n",
       "       [8, 9, 0, 0, 0, 0]])"
      ]
     },
     "execution_count": 69,
     "metadata": {},
     "output_type": "execute_result"
    }
   ],
   "source": [
    "# 길이를 6으로 지정\n",
    "# 0을 뒤에 출력\n",
    "padded = pad_sequences(result,6, padding='post')\n",
    "padded\n",
    "# padding 파라미터 : 앞부분을 확장할지 뒷부분을 확장할지를 결정\n",
    "# 기본값 : padding='post' (뒤부분을 0으로 채움)"
   ]
  },
  {
   "cell_type": "markdown",
   "id": "7680a1bc",
   "metadata": {},
   "source": [
    "### 자연어 처리 예제 (embedding 사용)\n",
    "- 텍스트를 일고 긍정, 부정 예측하기\n",
    "    - 영화 리뷰를 딥러닝 모델로 학습해서\n",
    "    - 각 라뷰가 긍정적인지 부정적인지 예측\n",
    "\n",
    "\n",
    "\n",
    "- 예측 과정  \n",
    "1. 짧은 리뷰 10개를 불러와  \n",
    "    - 긍정적이면 1, 부정적이면 0이라는 클래스로 지정    \n",
    "2. 토큰화  \n",
    "3. 패딩 (padding)   \n",
    "4. 임베딩 및 딥러닝\n"
   ]
  },
  {
   "cell_type": "code",
   "execution_count": 71,
   "id": "67d1d944",
   "metadata": {},
   "outputs": [],
   "source": [
    "import numpy\n",
    "import tensorflow as tf\n",
    "from numpy import array\n",
    "from tensorflow.keras.preprocessing.text import Tokenizer\n",
    "from tensorflow.keras.preprocessing.sequence import pad_sequences\n",
    "from tensorflow.keras.models import Sequential\n",
    "from tensorflow.keras.layers import Dense,Flatten,Embedding\n",
    "from tensorflow.keras.preprocessing.text import text_to_word_sequence"
   ]
  },
  {
   "cell_type": "code",
   "execution_count": 74,
   "id": "a7dabd8b",
   "metadata": {},
   "outputs": [
    {
     "name": "stdout",
     "output_type": "stream",
     "text": [
      "\n",
      "리뷰 텍스트, 토큰화 결과:\n",
      " [[[0. 1. 0. 0. 0. 0. 0.]\n",
      "  [0. 0. 1. 0. 0. 0. 0.]\n",
      "  [0. 0. 0. 1. 0. 0. 0.]\n",
      "  [0. 0. 0. 0. 1. 0. 0.]\n",
      "  [0. 0. 0. 0. 0. 1. 0.]\n",
      "  [0. 0. 0. 0. 0. 0. 1.]]]\n"
     ]
    }
   ],
   "source": [
    "# (1) 데이터 준비\n",
    "# - 긍정적이면 1, 부정적이면 0이라는 클래스로 지정\n",
    "\n",
    "docs = [\"너무 재밌네요\",\"최고예요\",\"참 잘 만든 영화예요\", \\\n",
    "        \"추천하고 싶은 영화입니다\",\"한번 더 보고싶네요\",\"글쎄요\", \\\n",
    "        \"별로예요\",\"생각보다 지루하네요\",\"연기가 어색해요\",\"재미없어요\"]\n",
    "\n",
    "# 긍정 리뷰는 1, 부정 리뷰는 0으로 클래스 지정\n",
    "classes = array([1,1,1,1,1,0,0,0,0,0])\n",
    "\n"
   ]
  },
  {
   "cell_type": "code",
   "execution_count": 75,
   "id": "f5e05581",
   "metadata": {},
   "outputs": [
    {
     "name": "stdout",
     "output_type": "stream",
     "text": [
      "{'너무': 1, '재밌네요': 2, '최고예요': 3, '참': 4, '잘': 5, '만든': 6, '영화예요': 7, '추천하고': 8, '싶은': 9, '영화입니다': 10, '한번': 11, '더': 12, '보고싶네요': 13, '글쎄요': 14, '별로예요': 15, '생각보다': 16, '지루하네요': 17, '연기가': 18, '어색해요': 19, '재미없어요': 20}\n",
      "\n",
      "리뷰 텍스트, 토큰화 결과:\n",
      " [[1, 2], [3], [4, 5, 6, 7], [8, 9, 10], [11, 12, 13], [14], [15], [16, 17], [18, 19], [20]]\n"
     ]
    }
   ],
   "source": [
    "# (2) 토큰화\n",
    "token = Tokenizer()\n",
    "token.fit_on_texts(docs)\n",
    "print(token.word_index)\n",
    "x=token.texts_to_sequences(docs)\n",
    "\n",
    "print(\"\\n리뷰 텍스트, 토큰화 결과:\\n\",  x)\n"
   ]
  },
  {
   "cell_type": "code",
   "execution_count": 76,
   "id": "5fd29a41",
   "metadata": {},
   "outputs": [
    {
     "name": "stdout",
     "output_type": "stream",
     "text": [
      "\n",
      "패딩 결과:\n",
      " [[ 0  0  1  2]\n",
      " [ 0  0  0  3]\n",
      " [ 4  5  6  7]\n",
      " [ 0  8  9 10]\n",
      " [ 0 11 12 13]\n",
      " [ 0  0  0 14]\n",
      " [ 0  0  0 15]\n",
      " [ 0  0 16 17]\n",
      " [ 0  0 18 19]\n",
      " [ 0  0  0 20]]\n"
     ]
    }
   ],
   "source": [
    "# (3) 패딩(padding) : 서로 다른 길이의 데이터를 4로 맞춤\n",
    "padded_x = pad_sequences(x,4)\n",
    "print(\"\\n패딩 결과:\\n\", padded_x)"
   ]
  },
  {
   "cell_type": "code",
   "execution_count": 77,
   "id": "e6c18bef",
   "metadata": {},
   "outputs": [
    {
     "data": {
      "text/plain": [
       "{'너무': 1,\n",
       " '재밌네요': 2,\n",
       " '최고예요': 3,\n",
       " '참': 4,\n",
       " '잘': 5,\n",
       " '만든': 6,\n",
       " '영화예요': 7,\n",
       " '추천하고': 8,\n",
       " '싶은': 9,\n",
       " '영화입니다': 10,\n",
       " '한번': 11,\n",
       " '더': 12,\n",
       " '보고싶네요': 13,\n",
       " '글쎄요': 14,\n",
       " '별로예요': 15,\n",
       " '생각보다': 16,\n",
       " '지루하네요': 17,\n",
       " '연기가': 18,\n",
       " '어색해요': 19,\n",
       " '재미없어요': 20}"
      ]
     },
     "execution_count": 77,
     "metadata": {},
     "output_type": "execute_result"
    }
   ],
   "source": [
    "token.word_index"
   ]
  },
  {
   "cell_type": "code",
   "execution_count": 80,
   "id": "9776b5cc",
   "metadata": {},
   "outputs": [],
   "source": [
    "### 딥러닝 모델 설정 - embedding 시 전체 단어수 계산\n",
    "word_size = len(token.word_index) + 1\n",
    "#**배열의 맨앞에 dlseprtm 0이 생략되어 출력** 됨\n",
    "# embedding 시 전체 단어수에 +1을 해야함"
   ]
  },
  {
   "cell_type": "code",
   "execution_count": 81,
   "id": "757b4efc",
   "metadata": {},
   "outputs": [
    {
     "data": {
      "text/plain": [
       "21"
      ]
     },
     "execution_count": 81,
     "metadata": {},
     "output_type": "execute_result"
    }
   ],
   "source": [
    "word_size"
   ]
  },
  {
   "cell_type": "code",
   "execution_count": 83,
   "id": "ac593e06",
   "metadata": {},
   "outputs": [],
   "source": [
    "# (1) 모델 설정\n",
    "model=Sequential()\n",
    "model.add(Embedding(word_size, 8, input_length=4)) # 3D 텐서 반환\n",
    "model.add(Flatten()) # 층변환\n",
    "model.add(Dense(1, activation='sigmoid')) # 출력층"
   ]
  },
  {
   "cell_type": "code",
   "execution_count": 84,
   "id": "7e3d9b8e",
   "metadata": {},
   "outputs": [
    {
     "name": "stdout",
     "output_type": "stream",
     "text": [
      "Model: \"sequential_1\"\n",
      "_________________________________________________________________\n",
      "Layer (type)                 Output Shape              Param #   \n",
      "=================================================================\n",
      "embedding (Embedding)        (None, 4, 8)              168       \n",
      "_________________________________________________________________\n",
      "flatten (Flatten)            (None, 32)                0         \n",
      "_________________________________________________________________\n",
      "dense (Dense)                (None, 1)                 33        \n",
      "=================================================================\n",
      "Total params: 201\n",
      "Trainable params: 201\n",
      "Non-trainable params: 0\n",
      "_________________________________________________________________\n"
     ]
    }
   ],
   "source": [
    "model.summary()"
   ]
  },
  {
   "cell_type": "code",
   "execution_count": 85,
   "id": "bcce879e",
   "metadata": {},
   "outputs": [],
   "source": [
    "# (2) 모델 컴파일\n",
    "model.compile(optimizer='adam',  # adam rmsprop\n",
    "              loss='binary_crossentropy', \n",
    "              metrics=['accuracy'])"
   ]
  },
  {
   "cell_type": "code",
   "execution_count": 86,
   "id": "391a9e01",
   "metadata": {},
   "outputs": [
    {
     "name": "stdout",
     "output_type": "stream",
     "text": [
      "Epoch 1/20\n",
      "1/1 [==============================] - 0s 372ms/step - loss: 0.6980 - accuracy: 0.4000\n",
      "Epoch 2/20\n",
      "1/1 [==============================] - 0s 2ms/step - loss: 0.6957 - accuracy: 0.5000\n",
      "Epoch 3/20\n",
      "1/1 [==============================] - 0s 997us/step - loss: 0.6935 - accuracy: 0.6000\n",
      "Epoch 4/20\n",
      "1/1 [==============================] - 0s 998us/step - loss: 0.6913 - accuracy: 0.6000\n",
      "Epoch 5/20\n",
      "1/1 [==============================] - 0s 996us/step - loss: 0.6890 - accuracy: 0.6000\n",
      "Epoch 6/20\n",
      "1/1 [==============================] - 0s 997us/step - loss: 0.6868 - accuracy: 0.7000\n",
      "Epoch 7/20\n",
      "1/1 [==============================] - 0s 2ms/step - loss: 0.6846 - accuracy: 0.7000\n",
      "Epoch 8/20\n",
      "1/1 [==============================] - 0s 997us/step - loss: 0.6824 - accuracy: 0.7000\n",
      "Epoch 9/20\n",
      "1/1 [==============================] - 0s 998us/step - loss: 0.6802 - accuracy: 0.7000\n",
      "Epoch 10/20\n",
      "1/1 [==============================] - 0s 997us/step - loss: 0.6780 - accuracy: 0.8000\n",
      "Epoch 11/20\n",
      "1/1 [==============================] - 0s 2ms/step - loss: 0.6758 - accuracy: 0.8000\n",
      "Epoch 12/20\n",
      "1/1 [==============================] - 0s 998us/step - loss: 0.6736 - accuracy: 0.8000\n",
      "Epoch 13/20\n",
      "1/1 [==============================] - 0s 997us/step - loss: 0.6714 - accuracy: 0.8000\n",
      "Epoch 14/20\n",
      "1/1 [==============================] - 0s 998us/step - loss: 0.6692 - accuracy: 0.9000\n",
      "Epoch 15/20\n",
      "1/1 [==============================] - 0s 997us/step - loss: 0.6670 - accuracy: 0.9000\n",
      "Epoch 16/20\n",
      "1/1 [==============================] - 0s 997us/step - loss: 0.6649 - accuracy: 0.9000\n",
      "Epoch 17/20\n",
      "1/1 [==============================] - 0s 0s/step - loss: 0.6627 - accuracy: 0.9000\n",
      "Epoch 18/20\n",
      "1/1 [==============================] - 0s 2ms/step - loss: 0.6605 - accuracy: 0.9000\n",
      "Epoch 19/20\n",
      "1/1 [==============================] - 0s 998us/step - loss: 0.6583 - accuracy: 0.9000\n",
      "Epoch 20/20\n",
      "1/1 [==============================] - 0s 997us/step - loss: 0.6561 - accuracy: 0.9000\n"
     ]
    },
    {
     "data": {
      "text/plain": [
       "<keras.callbacks.History at 0x1b35382b8b0>"
      ]
     },
     "execution_count": 86,
     "metadata": {},
     "output_type": "execute_result"
    }
   ],
   "source": [
    "# (3) 모델 훈련(학습) : paddes_x-> token분리후 padding한 데이터\n",
    "model.fit(padded_x, classes, epochs=20)"
   ]
  },
  {
   "cell_type": "code",
   "execution_count": 87,
   "id": "400acd1f",
   "metadata": {},
   "outputs": [
    {
     "name": "stdout",
     "output_type": "stream",
     "text": [
      "1/1 [==============================] - 0s 80ms/step - loss: 0.6539 - accuracy: 0.9000\n",
      "\n",
      " Accuracy: 0.9000\n"
     ]
    }
   ],
   "source": [
    "# (4) 모델 평가\n",
    "print(\"\\n Accuracy: %.4f\" % (model.evaluate(padded_x, classes)[1]))\n"
   ]
  },
  {
   "cell_type": "markdown",
   "id": "2c77ffba",
   "metadata": {},
   "source": [
    "## 05_영화리뷰 이진분류 예제를 embedding 방식으로 진행"
   ]
  },
  {
   "cell_type": "code",
   "execution_count": 109,
   "id": "c8145129",
   "metadata": {},
   "outputs": [],
   "source": [
    "from tensorflow.keras.datasets import imdb\n",
    "from tensorflow.keras import preprocessing\n",
    "\n",
    "# 특성으로 사용할 단어의 수\n",
    "max_features = 10000\n",
    "# 사용할 텍스트의 길이(가장 빈번한 max_features 개의 단어만 사용합니다)\n",
    "maxlen = 20\n",
    "\n",
    "# 정수 리스트로 데이터를 로드합니다.\n",
    "(x_train, y_train), (x_test, y_test) = imdb.load_data(num_words=max_features)\n",
    "\n",
    "## word_index 인덱스 작업까지 완료 상태"
   ]
  },
  {
   "cell_type": "code",
   "execution_count": 110,
   "id": "63a0c954",
   "metadata": {},
   "outputs": [],
   "source": [
    "# padding 작업 진행\n",
    "x_train = preprocessing.sequence.pad_sequences(x_train, maxlen=maxlen)\n",
    "x_test = preprocessing.sequence.pad_sequences(x_test, maxlen=maxlen)"
   ]
  },
  {
   "cell_type": "code",
   "execution_count": 111,
   "id": "713a4aa1",
   "metadata": {},
   "outputs": [],
   "source": [
    "from tensorflow.keras.models import Sequential\n",
    "from tensorflow.keras.layers import Flatten, Dense, Embedding\n",
    "\n",
    "model = Sequential()\n",
    "model.add(Embedding(10000, 8, input_length=maxlen)) # 이미 전처리 완료된 상태라서 +1 필요없음\n",
    "# Embedding 층의 출력 크기는 (samples, maxlen, 8)가 됩니다.\n",
    "model.add(Flatten()) # 층을 펼침\n",
    "# 분류기 추가\n",
    "model.add(Dense(1, activation='sigmoid')) # 출력층"
   ]
  },
  {
   "cell_type": "code",
   "execution_count": 112,
   "id": "3c25417d",
   "metadata": {},
   "outputs": [
    {
     "name": "stdout",
     "output_type": "stream",
     "text": [
      "Model: \"sequential_5\"\n",
      "_________________________________________________________________\n",
      "Layer (type)                 Output Shape              Param #   \n",
      "=================================================================\n",
      "embedding_4 (Embedding)      (None, 20, 8)             80000     \n",
      "_________________________________________________________________\n",
      "flatten_4 (Flatten)          (None, 160)               0         \n",
      "_________________________________________________________________\n",
      "dense_4 (Dense)              (None, 1)                 161       \n",
      "=================================================================\n",
      "Total params: 80,161\n",
      "Trainable params: 80,161\n",
      "Non-trainable params: 0\n",
      "_________________________________________________________________\n"
     ]
    }
   ],
   "source": [
    "model.compile(optimizer='rmsprop', loss='binary_crossentropy', metrics=['acc'])\n",
    "model.summary()"
   ]
  },
  {
   "cell_type": "code",
   "execution_count": 113,
   "id": "76123965",
   "metadata": {},
   "outputs": [
    {
     "name": "stdout",
     "output_type": "stream",
     "text": [
      "Epoch 1/10\n",
      "625/625 [==============================] - 1s 606us/step - loss: 0.6598 - acc: 0.6399 - val_loss: 0.5959 - val_acc: 0.7076\n",
      "Epoch 2/10\n",
      "625/625 [==============================] - 0s 500us/step - loss: 0.5237 - acc: 0.7543 - val_loss: 0.5131 - val_acc: 0.7396\n",
      "Epoch 3/10\n",
      "625/625 [==============================] - 0s 505us/step - loss: 0.4546 - acc: 0.7903 - val_loss: 0.4937 - val_acc: 0.7480\n",
      "Epoch 4/10\n",
      "625/625 [==============================] - 0s 507us/step - loss: 0.4223 - acc: 0.8067 - val_loss: 0.4906 - val_acc: 0.7520\n",
      "Epoch 5/10\n",
      "625/625 [==============================] - 0s 507us/step - loss: 0.4008 - acc: 0.8189 - val_loss: 0.4915 - val_acc: 0.7552\n",
      "Epoch 6/10\n",
      "625/625 [==============================] - 0s 496us/step - loss: 0.3836 - acc: 0.8293 - val_loss: 0.4943 - val_acc: 0.7614\n",
      "Epoch 7/10\n",
      "625/625 [==============================] - 0s 494us/step - loss: 0.3683 - acc: 0.8393 - val_loss: 0.5003 - val_acc: 0.7592\n",
      "Epoch 8/10\n",
      "625/625 [==============================] - 0s 489us/step - loss: 0.3533 - acc: 0.8478 - val_loss: 0.5043 - val_acc: 0.7598\n",
      "Epoch 9/10\n",
      "625/625 [==============================] - 0s 503us/step - loss: 0.3385 - acc: 0.8562 - val_loss: 0.5091 - val_acc: 0.7584\n",
      "Epoch 10/10\n",
      "625/625 [==============================] - 0s 499us/step - loss: 0.3238 - acc: 0.8644 - val_loss: 0.5142 - val_acc: 0.7552\n"
     ]
    }
   ],
   "source": [
    "history = model.fit(x_train, y_train, epochs=10, batch_size=32, validation_split=0.2)"
   ]
  },
  {
   "cell_type": "markdown",
   "id": "70b18a78",
   "metadata": {},
   "source": [
    "### 결과\n",
    "- 20개 단어만 사용한 것 치고는 꽤 좋은 결과임\n",
    "- 단어 사이의 관계나 문장구조를 고려하고 있지 않음\n",
    "- 각 시퀀스 전체를 고려한 특성을 학습하도록 임베딩 층위에 순환층을 추가하는 것이 좋음"
   ]
  },
  {
   "cell_type": "markdown",
   "id": "c0d5b790",
   "metadata": {},
   "source": [
    "### 사전 훈련된 단어 임베딩 사용하기\n",
    "- 훈련 데이터가 부족하면 작업에 맞는 단어 임베딩을 학습할 수 없음\n",
    "    - 미리 계산된 임베딩 공간에서 임베딩 벡터를 로드해 사용\n",
    "    - 꽤 일반적인 특성이 필요할 때 다른 문제에서 사용한 특성을 재사용할 수 있음"
   ]
  },
  {
   "cell_type": "markdown",
   "id": "4c8f7da4",
   "metadata": {},
   "source": [
    "- 케라스의 `Embedding` 층을 위해 내려받을 수 있는 미리 계산된 단어 임베딩 데이터베이스가 여럿 있음\n",
    "    - **Word2vec**은 대표적인 계산된 임베딩임 \n",
    "    - GloVe(Global Vectors for Word Representation): 이 임베딩 기법은 단어의 동시 출현 통계를 기록한 행렬을 분해하는 기법을 사용함\n",
    "        - 이 개발자들은 위키피디아 데이터와 커먼 크롤 데이터에서 가져온 수백만 개의 영어 토큰에 대해서 임베딩을 미리 계산해 놓았음\n"
   ]
  },
  {
   "cell_type": "markdown",
   "id": "e83d52bd",
   "metadata": {},
   "source": [
    "### 영화 리뷰 예제에 사전 훈련된 단어 임베딩 사용하기\n",
    "\n",
    "- 원본 텍스트 다운로딩해서 처음부터 작업\n",
    "\n",
    "- 원본 IMDB 텍스트 다운로드하기\n",
    "- 먼저 http://mng.bz/0tIo 에서 IMDB 원본 데이터셋을 다운로드하고 압축을 해제\n",
    "\n",
    "- 훈련용 리뷰 하나를 문자열 하나로 만들어 훈련 데이터를 문자열의 리스트로 구성/리뷰 레이블(긍정/부정)도 labels 리스트로 생성\n"
   ]
  },
  {
   "cell_type": "code",
   "execution_count": 101,
   "id": "45567209",
   "metadata": {},
   "outputs": [],
   "source": [
    "import os\n",
    "\n",
    "imdb_dir = './data/aclImdb'"
   ]
  },
  {
   "cell_type": "code",
   "execution_count": null,
   "id": "2ab8401c",
   "metadata": {},
   "outputs": [],
   "source": []
  },
  {
   "cell_type": "code",
   "execution_count": null,
   "id": "a4543d44",
   "metadata": {},
   "outputs": [],
   "source": []
  },
  {
   "cell_type": "code",
   "execution_count": null,
   "id": "0a8f85c6",
   "metadata": {},
   "outputs": [],
   "source": []
  },
  {
   "cell_type": "code",
   "execution_count": null,
   "id": "ddb0c9d7",
   "metadata": {},
   "outputs": [],
   "source": []
  },
  {
   "cell_type": "code",
   "execution_count": null,
   "id": "578e6f27",
   "metadata": {},
   "outputs": [],
   "source": []
  },
  {
   "cell_type": "code",
   "execution_count": null,
   "id": "59a1f6a3",
   "metadata": {},
   "outputs": [],
   "source": []
  },
  {
   "cell_type": "code",
   "execution_count": null,
   "id": "3fe93dc0",
   "metadata": {},
   "outputs": [],
   "source": []
  }
 ],
 "metadata": {
  "kernelspec": {
   "display_name": "Python 3",
   "language": "python",
   "name": "python3"
  },
  "language_info": {
   "codemirror_mode": {
    "name": "ipython",
    "version": 3
   },
   "file_extension": ".py",
   "mimetype": "text/x-python",
   "name": "python",
   "nbconvert_exporter": "python",
   "pygments_lexer": "ipython3",
   "version": "3.8.8"
  }
 },
 "nbformat": 4,
 "nbformat_minor": 5
}
